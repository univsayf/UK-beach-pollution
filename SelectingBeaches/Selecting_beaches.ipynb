{
 "cells": [
  {
   "cell_type": "markdown",
   "id": "f9bf815f-25ff-401f-a2ec-760b35ebf4c3",
   "metadata": {},
   "source": [
    "# Description of analysis\n",
    "\n",
    "I use the beach pollution data (1994-2021) to find the UK beaches with sufficient number of pre and post observations, considering 2015 as the year of policy change - the year when England began charging 5p for sigle use plastic bags. Here are some important dates to remember: \n",
    "* A five pence charge came into effect on single use carrier bags in England on 5 October 2015.\n",
    "\n",
    "* Wales, Northern Ireland, and Scotland introduced a 5p levy on single use carrier bags in 2011, 2013, and 2014 respectively. The purpose of each single use carrier bag charge is to reduce the number of bags given out, increase their re-use and reduce litter.\n",
    "\n",
    "Source: https://commonslibrary.parliament.uk/research-briefings/cbp-7241/\n"
   ]
  },
  {
   "cell_type": "code",
   "execution_count": 7,
   "id": "1b342cb0-ab4d-41e3-a23a-20d022cb87ba",
   "metadata": {},
   "outputs": [],
   "source": [
    "# Loading packages and data\n",
    "import pandas as pd\n",
    "import numpy as np\n",
    "\n",
    "df = pd.read_excel(\"Beachwatch_AllData_1994-23.01.21inc Public Source Litter YChen.xlsx\")"
   ]
  },
  {
   "cell_type": "markdown",
   "id": "77ece8a2-06dd-4849-9691-7bbbc148bb89",
   "metadata": {},
   "source": [
    "To include sufficient pre and post periods, I am only include beach pollution data between January 01, 2010 and December 31, 2019. We chose to exclude 2020 to avoid the pandemic years. "
   ]
  },
  {
   "cell_type": "code",
   "execution_count": 8,
   "id": "352bad42-54f6-4e6f-82e1-e1a3129c6235",
   "metadata": {},
   "outputs": [],
   "source": [
    "start_date = pd.to_datetime('2010-01-01')\n",
    "end_date = pd.to_datetime('2019-12-31')\n",
    "\n",
    "df['Date of Survey'] = pd.to_datetime(df['Date of Survey'])\n",
    "\n",
    "df = df[(df[\"Date of Survey\"]>=start_date) & (df[\"Date of Survey\"]<=end_date)]\n",
    "\n",
    "df = df.reset_index(drop = True)"
   ]
  },
  {
   "cell_type": "markdown",
   "id": "76062054-0f71-45e7-9b15-860e75dd6fab",
   "metadata": {},
   "source": [
    "After filtering the dataset for the 2010 - 2019 period, the resulting data set has 8,300 observations for a total of 1,803 beaches."
   ]
  },
  {
   "cell_type": "code",
   "execution_count": 9,
   "id": "23ca9fcd-26ce-4d5f-a50e-79558f852ccc",
   "metadata": {},
   "outputs": [
    {
     "data": {
      "text/plain": [
       "1803"
      ]
     },
     "execution_count": 9,
     "metadata": {},
     "output_type": "execute_result"
    }
   ],
   "source": [
    "# number of beahces\n",
    "len(np.unique(df.BeachID))"
   ]
  },
  {
   "cell_type": "code",
   "execution_count": 10,
   "id": "73e4dc2b-cc8c-4b48-b2c8-896bba07acc1",
   "metadata": {},
   "outputs": [
    {
     "data": {
      "text/plain": [
       "8300"
      ]
     },
     "execution_count": 10,
     "metadata": {},
     "output_type": "execute_result"
    }
   ],
   "source": [
    "# number of observations\n",
    "len(df)"
   ]
  },
  {
   "cell_type": "markdown",
   "id": "946675aa-fddb-4d90-8554-e54d85e1e430",
   "metadata": {},
   "source": [
    "If we used monthly data for the above 1,803 beaches, we should have 216,360 observations [(10 x 12) x 1803]. But the current data appears to have only 8,300 observations. Perhaps, we should use yearly data instead of monthly."
   ]
  },
  {
   "cell_type": "markdown",
   "id": "9718abaf-7af3-42cd-b09a-aaecfeb1a54e",
   "metadata": {},
   "source": [
    "### Converting to yearly data\n",
    "\n",
    "The new dataset below, ndf, now contains beach pollution in yearly frequency. "
   ]
  },
  {
   "cell_type": "code",
   "execution_count": 11,
   "id": "e9723e47-1e49-4505-b51b-10a545a2e314",
   "metadata": {},
   "outputs": [],
   "source": [
    "ndf  = df.sort_values(by = ['BeachID','Date of Survey'], ascending=[True, True]) #sorting\n",
    "ndf= ndf.set_index('Date of Survey')\n",
    "ndf = ndf.groupby('BeachID').resample('Y').sum() # converting to yearly average data\n",
    "del ndf[\"BeachID\"]\n",
    "ndf = ndf.reset_index(level=1).reset_index() # resetting index"
   ]
  },
  {
   "cell_type": "markdown",
   "id": "ffb5a194-ff7d-483f-bdf7-e8c04142624b",
   "metadata": {},
   "source": [
    "Now, considering October 2015 as the month of policy change, each beach should have maximum 5 years of pre-2015 observations and maximum 5 years of post-2015 (including 2015) observations. Below I subset the datset, including only the beaches that have at least 3 years' observatioins (total 6 years) from each of pre and post periods. "
   ]
  },
  {
   "cell_type": "code",
   "execution_count": 12,
   "id": "cca47d92-28f8-4a85-8ad4-7feed014a27b",
   "metadata": {},
   "outputs": [],
   "source": [
    "# Separating the dataset for pre and post period\n",
    "\n",
    "intervention = pd.to_datetime('2015-10-05') # the date when UK began the 5p charge\n",
    "post_period = ndf[ndf['Date of Survey'] >= intervention]\n",
    "pre_period = ndf[ndf['Date of Survey'] < intervention]\n",
    "\n",
    "pre_observations_per_beach = pre_period.groupby('BeachID').size()\n",
    "pre_observations_per_beach = pre_observations_per_beach.reset_index()\n",
    "pre_observations_per_beach.columns = ['BeachID', '#of_Pre_observations']\n",
    "\n",
    "post_observations_per_beach = post_period.groupby('BeachID').size()\n",
    "post_observations_per_beach = post_observations_per_beach.reset_index()\n",
    "post_observations_per_beach.columns = ['BeachID', '#of_Post_observations']\n",
    "\n",
    "## Keeping only the beaches that have at least 3 years of pre data out of 5 years\n",
    "pre_observations_per_beach = pre_observations_per_beach[pre_observations_per_beach['#of_Pre_observations']>=3]\n",
    "\n",
    "## Keeping only the beaches that have at least 3 years of post data out of 4 years\n",
    "post_observations_per_beach = post_observations_per_beach[post_observations_per_beach['#of_Post_observations']>=3]"
   ]
  },
  {
   "cell_type": "markdown",
   "id": "df95d395-abfe-49e2-bdde-158ae5973fbc",
   "metadata": {},
   "source": [
    "The merged data set below shows the BeachID's with at least 3 years of pre and 3 years of post periods"
   ]
  },
  {
   "cell_type": "code",
   "execution_count": 13,
   "id": "998bcff8-e72b-497c-8090-f7355cde2be5",
   "metadata": {},
   "outputs": [],
   "source": [
    "## Merging the two subsets above\n",
    "merged = pd.merge(pre_observations_per_beach, post_observations_per_beach, on = 'BeachID')"
   ]
  },
  {
   "cell_type": "markdown",
   "id": "8d88103f-5319-44dc-aec2-095f4eba1453",
   "metadata": {},
   "source": [
    "## Total 359 beaches in this \"merged\" sample "
   ]
  },
  {
   "cell_type": "code",
   "execution_count": 14,
   "id": "b5a2d255-fed3-4ca3-8919-2d29760bf9eb",
   "metadata": {},
   "outputs": [
    {
     "data": {
      "text/plain": [
       "359"
      ]
     },
     "execution_count": 14,
     "metadata": {},
     "output_type": "execute_result"
    }
   ],
   "source": [
    "len(merged)"
   ]
  },
  {
   "cell_type": "code",
   "execution_count": 16,
   "id": "d225a888-e162-430b-89cf-c177162b6a74",
   "metadata": {},
   "outputs": [],
   "source": [
    "merged.to_csv('beach_sample.csv')"
   ]
  },
  {
   "cell_type": "markdown",
   "id": "191f070f-0fdb-4967-9376-5c31f3bc829f",
   "metadata": {},
   "source": [
    "## Checking the number of beaches in Enland only (excluding Scotland, Wales, Northern Ireland, and Channel Islands)"
   ]
  },
  {
   "cell_type": "code",
   "execution_count": 18,
   "id": "e23b1dc1-230e-4ac9-8f7a-3e3464e9e05f",
   "metadata": {},
   "outputs": [],
   "source": [
    "# Loading the original beach pollution data\n",
    "df = pd.read_excel(\"Beachwatch_AllData_1994-23.01.21inc Public Source Litter YChen.xlsx\")\n",
    "\n",
    "# Including only beaches that are sampled in the \"merged\" data set. These beaches have sufficient pre and post observations for litter collection\n",
    "df = df[df['BeachID'].isin(merged['BeachID'])]"
   ]
  },
  {
   "cell_type": "code",
   "execution_count": 20,
   "id": "378926b9-b984-430f-85fc-714da81b68b8",
   "metadata": {},
   "outputs": [
    {
     "name": "stdout",
     "output_type": "stream",
     "text": [
      "['Channel Islands', 'North East England', 'North West England', 'Northern Ireland', 'Scotland', 'South East England', 'South West England', 'Wales']\n"
     ]
    }
   ],
   "source": [
    "# Checking all the different regions of UK beaches\n",
    "beach_regions = np.unique(df[\"Beach Region\"]).tolist()\n",
    "print(beach_regions)"
   ]
  },
  {
   "cell_type": "code",
   "execution_count": 21,
   "id": "274056f8-9fe6-4676-a7ff-39431bab38a7",
   "metadata": {},
   "outputs": [],
   "source": [
    "# Making a list of beaches in England only\n",
    "beach_regions = [\"North East England\", \"North West England\",\"South East England\", \"South West England\"]  "
   ]
  },
  {
   "cell_type": "code",
   "execution_count": 22,
   "id": "4f15d706-d87d-4f33-8f3b-aa4090061123",
   "metadata": {},
   "outputs": [
    {
     "data": {
      "text/plain": [
       "225"
      ]
     },
     "execution_count": 22,
     "metadata": {},
     "output_type": "execute_result"
    }
   ],
   "source": [
    "# Filtering out beaches outside of England\n",
    "df = df[df[\"Beach Region\"].isin(beach_regions)]\n",
    "\n",
    "# Total number of beaches in England that are included in the final sample\n",
    "len(np.unique(df[\"BeachID\"]))"
   ]
  },
  {
   "cell_type": "markdown",
   "id": "4b041861-4ad9-403a-a3bf-a638416bf3cc",
   "metadata": {},
   "source": [
    "## In total 225 beaches are included in the final sample, including beaches in England only."
   ]
  },
  {
   "cell_type": "code",
   "execution_count": null,
   "id": "f9287172-944f-4b3f-9f22-350bf21aa2e5",
   "metadata": {},
   "outputs": [],
   "source": []
  }
 ],
 "metadata": {
  "kernelspec": {
   "display_name": "Python 3 (ipykernel)",
   "language": "python",
   "name": "python3"
  },
  "language_info": {
   "codemirror_mode": {
    "name": "ipython",
    "version": 3
   },
   "file_extension": ".py",
   "mimetype": "text/x-python",
   "name": "python",
   "nbconvert_exporter": "python",
   "pygments_lexer": "ipython3",
   "version": "3.8.8"
  }
 },
 "nbformat": 4,
 "nbformat_minor": 5
}
